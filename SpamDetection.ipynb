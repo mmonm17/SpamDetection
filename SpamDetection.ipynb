{
  "nbformat": 4,
  "nbformat_minor": 0,
  "metadata": {
    "colab": {
      "provenance": [],
      "include_colab_link": true
    },
    "kernelspec": {
      "name": "python3",
      "display_name": "Python 3"
    },
    "language_info": {
      "name": "python"
    }
  },
  "cells": [
    {
      "cell_type": "markdown",
      "metadata": {
        "id": "view-in-github",
        "colab_type": "text"
      },
      "source": [
        "<a href=\"https://colab.research.google.com/github/mmonm17/SpamDetection/blob/main/SpamDetection.ipynb\" target=\"_parent\"><img src=\"https://colab.research.google.com/assets/colab-badge.svg\" alt=\"Open In Colab\"/></a>"
      ]
    },
    {
      "cell_type": "markdown",
      "source": [
        "# Instructions\n",
        "\n",
        "The code in this notebook relies on a csv stored in a shared Google Drive. In order to access this, the notebook has to be opened in Google Colaboratory (not Jupyter Notebook). Alternatively, there is an option to download the csv through this link:  https://www.kaggle.com/datasets/uciml/sms-spam-collection-dataset. Afterwhich, the path may be changed to a local one at the user's discretion. After opening it in Colaboratory, each code in this notebook must be run step by step in order to run it properly. Errors may sometimes occur if one part of the code was not run.\n",
        "\n"
      ],
      "metadata": {
        "id": "A--ClV06fb9I"
      }
    },
    {
      "cell_type": "markdown",
      "source": [
        "# Opening the Dataset\n"
      ],
      "metadata": {
        "id": "QvxB3zWAIcJB"
      }
    },
    {
      "cell_type": "code",
      "source": [
        "# Mount Google Drive\n",
        "from google.colab import drive, data_table\n",
        "\n",
        "drive.mount('/content/drive')"
      ],
      "metadata": {
        "id": "Aqoc5mBWKM4J",
        "colab": {
          "base_uri": "https://localhost:8080/"
        },
        "outputId": "ac125989-97bd-4256-b9cb-6929fed8bca4"
      },
      "execution_count": null,
      "outputs": [
        {
          "output_type": "stream",
          "name": "stdout",
          "text": [
            "Mounted at /content/drive\n"
          ]
        }
      ]
    },
    {
      "cell_type": "markdown",
      "source": [
        "### Load file\n",
        "Load the dataset from a shared Google Drive"
      ],
      "metadata": {
        "id": "pQ-lWZ7BKieo"
      }
    },
    {
      "cell_type": "code",
      "source": [
        "# Global\n",
        "import pandas as pd\n",
        "path = \"/content/drive/Shared drives/KEDS (M)/spam.csv\""
      ],
      "metadata": {
        "id": "K4U_QaHYL9gR"
      },
      "execution_count": null,
      "outputs": []
    },
    {
      "cell_type": "markdown",
      "source": [
        "# Understanding the Dataset"
      ],
      "metadata": {
        "id": "57t2bJjz6tez"
      }
    },
    {
      "cell_type": "code",
      "source": [
        "df = pd.read_csv(path, encoding='latin1')\n",
        "\n",
        "# check total number of documents\n",
        "doc_num = df.shape[0]\n",
        "print(\"Total number of documents: %d\" % doc_num)\n",
        "\n",
        "print(f\"ham: {(df['v1'] == 'ham').sum()} ({(df['v1'] == 'ham').sum() / doc_num})\")\n",
        "print(f\"spam: {(df['v1'] == 'spam').sum()} ({(df['v1'] == 'spam').sum() / doc_num})\")"
      ],
      "metadata": {
        "colab": {
          "base_uri": "https://localhost:8080/"
        },
        "id": "d9TGIbFV60a4",
        "outputId": "227742f9-dcc6-4154-e8de-72824c745ff8"
      },
      "execution_count": null,
      "outputs": [
        {
          "output_type": "stream",
          "name": "stdout",
          "text": [
            "Total number of documents: 5572\n",
            "ham: 4825 (0.8659368269921034)\n",
            "spam: 747 (0.13406317300789664)\n"
          ]
        }
      ]
    },
    {
      "cell_type": "markdown",
      "source": [
        "According to the Kaggle dataset description, the messages labeled 'spam' are those that are spam messages, and the messages labeled 'ham' are those that are not spam messages. There are a total of 5772 documents, and 87% of them are ham messages. The other 13% are spam messages. Thus, the distribution of the data is incredibly imbalanced, and this is important to note for the succeeding program, particularly for the testing of the model."
      ],
      "metadata": {
        "id": "W-l38qZuXpvf"
      }
    },
    {
      "cell_type": "markdown",
      "source": [
        "# Pre-processing\n",
        "To know what pre-processing must be done before training, first view a few samples from the dataset.\n"
      ],
      "metadata": {
        "id": "kFFjU_4wKuTA"
      }
    },
    {
      "cell_type": "code",
      "source": [
        "df[82:98]"
      ],
      "metadata": {
        "colab": {
          "base_uri": "https://localhost:8080/",
          "height": 551
        },
        "id": "w7flW3dSEE6D",
        "outputId": "2554021f-bd81-420c-bc57-cd6f7e851e61"
      },
      "execution_count": null,
      "outputs": [
        {
          "output_type": "execute_result",
          "data": {
            "text/plain": [
              "      v1                                                 v2    Unnamed: 2  \\\n",
              "82   ham                   Ok i am on the way to home hi hi           NaN   \n",
              "83   ham               You will be in the place of that man           NaN   \n",
              "84   ham                                     Yup next stop.           NaN   \n",
              "85   ham  I call you later, don't have network. If urgnt...           NaN   \n",
              "86   ham  For real when u getting on yo? I only need 2 m...           NaN   \n",
              "87   ham  Yes I started to send requests to make it but ...           NaN   \n",
              "88   ham         I'm really not up to it still tonight babe           NaN   \n",
              "89   ham          Ela kano.,il download, come wen ur free..           NaN   \n",
              "90   ham  Yeah do! DonÛ÷t stand to close tho- youÛ÷ll ...           NaN   \n",
              "91   ham  Sorry to be a pain. Is it ok if we meet anothe...           NaN   \n",
              "92   ham  Smile in Pleasure Smile in Pain Smile when tro...           NaN   \n",
              "93  spam  Please call our customer service representativ...           NaN   \n",
              "94   ham  Havent planning to buy later. I check already ...           NaN   \n",
              "95  spam  Your free ringtone is waiting to be collected....   PO Box 5249   \n",
              "96   ham                  Watching telugu movie..wat abt u?           NaN   \n",
              "97   ham  i see. When we finish we have loads of loans t...           NaN   \n",
              "\n",
              "               Unnamed: 3 Unnamed: 4  \n",
              "82                    NaN        NaN  \n",
              "83                    NaN        NaN  \n",
              "84                    NaN        NaN  \n",
              "85                    NaN        NaN  \n",
              "86                    NaN        NaN  \n",
              "87                    NaN        NaN  \n",
              "88                    NaN        NaN  \n",
              "89                    NaN        NaN  \n",
              "90                    NaN        NaN  \n",
              "91                    NaN        NaN  \n",
              "92                    NaN        NaN  \n",
              "93                    NaN        NaN  \n",
              "94                    NaN        NaN  \n",
              "95   MK17 92H. 450Ppw 16\"        NaN  \n",
              "96                    NaN        NaN  \n",
              "97                    NaN        NaN  "
            ],
            "text/html": [
              "\n",
              "  <div id=\"df-26bddbab-24a4-4ac4-88bc-cdf02fd3aa2b\">\n",
              "    <div class=\"colab-df-container\">\n",
              "      <div>\n",
              "<style scoped>\n",
              "    .dataframe tbody tr th:only-of-type {\n",
              "        vertical-align: middle;\n",
              "    }\n",
              "\n",
              "    .dataframe tbody tr th {\n",
              "        vertical-align: top;\n",
              "    }\n",
              "\n",
              "    .dataframe thead th {\n",
              "        text-align: right;\n",
              "    }\n",
              "</style>\n",
              "<table border=\"1\" class=\"dataframe\">\n",
              "  <thead>\n",
              "    <tr style=\"text-align: right;\">\n",
              "      <th></th>\n",
              "      <th>v1</th>\n",
              "      <th>v2</th>\n",
              "      <th>Unnamed: 2</th>\n",
              "      <th>Unnamed: 3</th>\n",
              "      <th>Unnamed: 4</th>\n",
              "    </tr>\n",
              "  </thead>\n",
              "  <tbody>\n",
              "    <tr>\n",
              "      <th>82</th>\n",
              "      <td>ham</td>\n",
              "      <td>Ok i am on the way to home hi hi</td>\n",
              "      <td>NaN</td>\n",
              "      <td>NaN</td>\n",
              "      <td>NaN</td>\n",
              "    </tr>\n",
              "    <tr>\n",
              "      <th>83</th>\n",
              "      <td>ham</td>\n",
              "      <td>You will be in the place of that man</td>\n",
              "      <td>NaN</td>\n",
              "      <td>NaN</td>\n",
              "      <td>NaN</td>\n",
              "    </tr>\n",
              "    <tr>\n",
              "      <th>84</th>\n",
              "      <td>ham</td>\n",
              "      <td>Yup next stop.</td>\n",
              "      <td>NaN</td>\n",
              "      <td>NaN</td>\n",
              "      <td>NaN</td>\n",
              "    </tr>\n",
              "    <tr>\n",
              "      <th>85</th>\n",
              "      <td>ham</td>\n",
              "      <td>I call you later, don't have network. If urgnt...</td>\n",
              "      <td>NaN</td>\n",
              "      <td>NaN</td>\n",
              "      <td>NaN</td>\n",
              "    </tr>\n",
              "    <tr>\n",
              "      <th>86</th>\n",
              "      <td>ham</td>\n",
              "      <td>For real when u getting on yo? I only need 2 m...</td>\n",
              "      <td>NaN</td>\n",
              "      <td>NaN</td>\n",
              "      <td>NaN</td>\n",
              "    </tr>\n",
              "    <tr>\n",
              "      <th>87</th>\n",
              "      <td>ham</td>\n",
              "      <td>Yes I started to send requests to make it but ...</td>\n",
              "      <td>NaN</td>\n",
              "      <td>NaN</td>\n",
              "      <td>NaN</td>\n",
              "    </tr>\n",
              "    <tr>\n",
              "      <th>88</th>\n",
              "      <td>ham</td>\n",
              "      <td>I'm really not up to it still tonight babe</td>\n",
              "      <td>NaN</td>\n",
              "      <td>NaN</td>\n",
              "      <td>NaN</td>\n",
              "    </tr>\n",
              "    <tr>\n",
              "      <th>89</th>\n",
              "      <td>ham</td>\n",
              "      <td>Ela kano.,il download, come wen ur free..</td>\n",
              "      <td>NaN</td>\n",
              "      <td>NaN</td>\n",
              "      <td>NaN</td>\n",
              "    </tr>\n",
              "    <tr>\n",
              "      <th>90</th>\n",
              "      <td>ham</td>\n",
              "      <td>Yeah do! DonÛ÷t stand to close tho- youÛ÷ll ...</td>\n",
              "      <td>NaN</td>\n",
              "      <td>NaN</td>\n",
              "      <td>NaN</td>\n",
              "    </tr>\n",
              "    <tr>\n",
              "      <th>91</th>\n",
              "      <td>ham</td>\n",
              "      <td>Sorry to be a pain. Is it ok if we meet anothe...</td>\n",
              "      <td>NaN</td>\n",
              "      <td>NaN</td>\n",
              "      <td>NaN</td>\n",
              "    </tr>\n",
              "    <tr>\n",
              "      <th>92</th>\n",
              "      <td>ham</td>\n",
              "      <td>Smile in Pleasure Smile in Pain Smile when tro...</td>\n",
              "      <td>NaN</td>\n",
              "      <td>NaN</td>\n",
              "      <td>NaN</td>\n",
              "    </tr>\n",
              "    <tr>\n",
              "      <th>93</th>\n",
              "      <td>spam</td>\n",
              "      <td>Please call our customer service representativ...</td>\n",
              "      <td>NaN</td>\n",
              "      <td>NaN</td>\n",
              "      <td>NaN</td>\n",
              "    </tr>\n",
              "    <tr>\n",
              "      <th>94</th>\n",
              "      <td>ham</td>\n",
              "      <td>Havent planning to buy later. I check already ...</td>\n",
              "      <td>NaN</td>\n",
              "      <td>NaN</td>\n",
              "      <td>NaN</td>\n",
              "    </tr>\n",
              "    <tr>\n",
              "      <th>95</th>\n",
              "      <td>spam</td>\n",
              "      <td>Your free ringtone is waiting to be collected....</td>\n",
              "      <td>PO Box 5249</td>\n",
              "      <td>MK17 92H. 450Ppw 16\"</td>\n",
              "      <td>NaN</td>\n",
              "    </tr>\n",
              "    <tr>\n",
              "      <th>96</th>\n",
              "      <td>ham</td>\n",
              "      <td>Watching telugu movie..wat abt u?</td>\n",
              "      <td>NaN</td>\n",
              "      <td>NaN</td>\n",
              "      <td>NaN</td>\n",
              "    </tr>\n",
              "    <tr>\n",
              "      <th>97</th>\n",
              "      <td>ham</td>\n",
              "      <td>i see. When we finish we have loads of loans t...</td>\n",
              "      <td>NaN</td>\n",
              "      <td>NaN</td>\n",
              "      <td>NaN</td>\n",
              "    </tr>\n",
              "  </tbody>\n",
              "</table>\n",
              "</div>\n",
              "      <button class=\"colab-df-convert\" onclick=\"convertToInteractive('df-26bddbab-24a4-4ac4-88bc-cdf02fd3aa2b')\"\n",
              "              title=\"Convert this dataframe to an interactive table.\"\n",
              "              style=\"display:none;\">\n",
              "        \n",
              "  <svg xmlns=\"http://www.w3.org/2000/svg\" height=\"24px\"viewBox=\"0 0 24 24\"\n",
              "       width=\"24px\">\n",
              "    <path d=\"M0 0h24v24H0V0z\" fill=\"none\"/>\n",
              "    <path d=\"M18.56 5.44l.94 2.06.94-2.06 2.06-.94-2.06-.94-.94-2.06-.94 2.06-2.06.94zm-11 1L8.5 8.5l.94-2.06 2.06-.94-2.06-.94L8.5 2.5l-.94 2.06-2.06.94zm10 10l.94 2.06.94-2.06 2.06-.94-2.06-.94-.94-2.06-.94 2.06-2.06.94z\"/><path d=\"M17.41 7.96l-1.37-1.37c-.4-.4-.92-.59-1.43-.59-.52 0-1.04.2-1.43.59L10.3 9.45l-7.72 7.72c-.78.78-.78 2.05 0 2.83L4 21.41c.39.39.9.59 1.41.59.51 0 1.02-.2 1.41-.59l7.78-7.78 2.81-2.81c.8-.78.8-2.07 0-2.86zM5.41 20L4 18.59l7.72-7.72 1.47 1.35L5.41 20z\"/>\n",
              "  </svg>\n",
              "      </button>\n",
              "      \n",
              "  <style>\n",
              "    .colab-df-container {\n",
              "      display:flex;\n",
              "      flex-wrap:wrap;\n",
              "      gap: 12px;\n",
              "    }\n",
              "\n",
              "    .colab-df-convert {\n",
              "      background-color: #E8F0FE;\n",
              "      border: none;\n",
              "      border-radius: 50%;\n",
              "      cursor: pointer;\n",
              "      display: none;\n",
              "      fill: #1967D2;\n",
              "      height: 32px;\n",
              "      padding: 0 0 0 0;\n",
              "      width: 32px;\n",
              "    }\n",
              "\n",
              "    .colab-df-convert:hover {\n",
              "      background-color: #E2EBFA;\n",
              "      box-shadow: 0px 1px 2px rgba(60, 64, 67, 0.3), 0px 1px 3px 1px rgba(60, 64, 67, 0.15);\n",
              "      fill: #174EA6;\n",
              "    }\n",
              "\n",
              "    [theme=dark] .colab-df-convert {\n",
              "      background-color: #3B4455;\n",
              "      fill: #D2E3FC;\n",
              "    }\n",
              "\n",
              "    [theme=dark] .colab-df-convert:hover {\n",
              "      background-color: #434B5C;\n",
              "      box-shadow: 0px 1px 3px 1px rgba(0, 0, 0, 0.15);\n",
              "      filter: drop-shadow(0px 1px 2px rgba(0, 0, 0, 0.3));\n",
              "      fill: #FFFFFF;\n",
              "    }\n",
              "  </style>\n",
              "\n",
              "      <script>\n",
              "        const buttonEl =\n",
              "          document.querySelector('#df-26bddbab-24a4-4ac4-88bc-cdf02fd3aa2b button.colab-df-convert');\n",
              "        buttonEl.style.display =\n",
              "          google.colab.kernel.accessAllowed ? 'block' : 'none';\n",
              "\n",
              "        async function convertToInteractive(key) {\n",
              "          const element = document.querySelector('#df-26bddbab-24a4-4ac4-88bc-cdf02fd3aa2b');\n",
              "          const dataTable =\n",
              "            await google.colab.kernel.invokeFunction('convertToInteractive',\n",
              "                                                     [key], {});\n",
              "          if (!dataTable) return;\n",
              "\n",
              "          const docLinkHtml = 'Like what you see? Visit the ' +\n",
              "            '<a target=\"_blank\" href=https://colab.research.google.com/notebooks/data_table.ipynb>data table notebook</a>'\n",
              "            + ' to learn more about interactive tables.';\n",
              "          element.innerHTML = '';\n",
              "          dataTable['output_type'] = 'display_data';\n",
              "          await google.colab.output.renderOutput(dataTable, element);\n",
              "          const docLink = document.createElement('div');\n",
              "          docLink.innerHTML = docLinkHtml;\n",
              "          element.appendChild(docLink);\n",
              "        }\n",
              "      </script>\n",
              "    </div>\n",
              "  </div>\n",
              "  "
            ]
          },
          "metadata": {},
          "execution_count": 4
        }
      ]
    },
    {
      "cell_type": "markdown",
      "source": [
        "There are multiple columns for the features, and the columns are random and serve no purpose. Thus, these columns are to be concatenated for ease of processing."
      ],
      "metadata": {
        "id": "mS-JwI5fJ268"
      }
    },
    {
      "cell_type": "code",
      "source": [
        "import re\n",
        "\n",
        "# For readability\n",
        "df.rename(columns={\"v1\": \"label\", \"v2\":\"message\"}, inplace=True)\n",
        "\n",
        "# Join the strings found in all the feature columns\n",
        "df[\"message\"] = df[[\"message\", \"Unnamed: 2\", \"Unnamed: 3\", \"Unnamed: 4\"]].astype(str).apply(\"-\".join, axis=1)\n",
        "df[\"label\"] = df[\"label\"].astype(str)\n",
        "\n",
        "# removing the other columns\n",
        "df.drop(columns=[\"Unnamed: 2\", \"Unnamed: 3\", \"Unnamed: 4\"], inplace=True)\n",
        "\n",
        "df[:5]"
      ],
      "metadata": {
        "colab": {
          "base_uri": "https://localhost:8080/",
          "height": 206
        },
        "id": "3OiKxRvrW0RW",
        "outputId": "c8c8203b-f9aa-4890-d962-78c45ddcb6b8"
      },
      "execution_count": null,
      "outputs": [
        {
          "output_type": "execute_result",
          "data": {
            "text/plain": [
              "  label                                            message\n",
              "0   ham  Go until jurong point, crazy.. Available only ...\n",
              "1   ham          Ok lar... Joking wif u oni...-nan-nan-nan\n",
              "2  spam  Free entry in 2 a wkly comp to win FA Cup fina...\n",
              "3   ham  U dun say so early hor... U c already then say...\n",
              "4   ham  Nah I don't think he goes to usf, he lives aro..."
            ],
            "text/html": [
              "\n",
              "  <div id=\"df-158357ed-b368-47ed-b54f-fccfa6523c25\">\n",
              "    <div class=\"colab-df-container\">\n",
              "      <div>\n",
              "<style scoped>\n",
              "    .dataframe tbody tr th:only-of-type {\n",
              "        vertical-align: middle;\n",
              "    }\n",
              "\n",
              "    .dataframe tbody tr th {\n",
              "        vertical-align: top;\n",
              "    }\n",
              "\n",
              "    .dataframe thead th {\n",
              "        text-align: right;\n",
              "    }\n",
              "</style>\n",
              "<table border=\"1\" class=\"dataframe\">\n",
              "  <thead>\n",
              "    <tr style=\"text-align: right;\">\n",
              "      <th></th>\n",
              "      <th>label</th>\n",
              "      <th>message</th>\n",
              "    </tr>\n",
              "  </thead>\n",
              "  <tbody>\n",
              "    <tr>\n",
              "      <th>0</th>\n",
              "      <td>ham</td>\n",
              "      <td>Go until jurong point, crazy.. Available only ...</td>\n",
              "    </tr>\n",
              "    <tr>\n",
              "      <th>1</th>\n",
              "      <td>ham</td>\n",
              "      <td>Ok lar... Joking wif u oni...-nan-nan-nan</td>\n",
              "    </tr>\n",
              "    <tr>\n",
              "      <th>2</th>\n",
              "      <td>spam</td>\n",
              "      <td>Free entry in 2 a wkly comp to win FA Cup fina...</td>\n",
              "    </tr>\n",
              "    <tr>\n",
              "      <th>3</th>\n",
              "      <td>ham</td>\n",
              "      <td>U dun say so early hor... U c already then say...</td>\n",
              "    </tr>\n",
              "    <tr>\n",
              "      <th>4</th>\n",
              "      <td>ham</td>\n",
              "      <td>Nah I don't think he goes to usf, he lives aro...</td>\n",
              "    </tr>\n",
              "  </tbody>\n",
              "</table>\n",
              "</div>\n",
              "      <button class=\"colab-df-convert\" onclick=\"convertToInteractive('df-158357ed-b368-47ed-b54f-fccfa6523c25')\"\n",
              "              title=\"Convert this dataframe to an interactive table.\"\n",
              "              style=\"display:none;\">\n",
              "        \n",
              "  <svg xmlns=\"http://www.w3.org/2000/svg\" height=\"24px\"viewBox=\"0 0 24 24\"\n",
              "       width=\"24px\">\n",
              "    <path d=\"M0 0h24v24H0V0z\" fill=\"none\"/>\n",
              "    <path d=\"M18.56 5.44l.94 2.06.94-2.06 2.06-.94-2.06-.94-.94-2.06-.94 2.06-2.06.94zm-11 1L8.5 8.5l.94-2.06 2.06-.94-2.06-.94L8.5 2.5l-.94 2.06-2.06.94zm10 10l.94 2.06.94-2.06 2.06-.94-2.06-.94-.94-2.06-.94 2.06-2.06.94z\"/><path d=\"M17.41 7.96l-1.37-1.37c-.4-.4-.92-.59-1.43-.59-.52 0-1.04.2-1.43.59L10.3 9.45l-7.72 7.72c-.78.78-.78 2.05 0 2.83L4 21.41c.39.39.9.59 1.41.59.51 0 1.02-.2 1.41-.59l7.78-7.78 2.81-2.81c.8-.78.8-2.07 0-2.86zM5.41 20L4 18.59l7.72-7.72 1.47 1.35L5.41 20z\"/>\n",
              "  </svg>\n",
              "      </button>\n",
              "      \n",
              "  <style>\n",
              "    .colab-df-container {\n",
              "      display:flex;\n",
              "      flex-wrap:wrap;\n",
              "      gap: 12px;\n",
              "    }\n",
              "\n",
              "    .colab-df-convert {\n",
              "      background-color: #E8F0FE;\n",
              "      border: none;\n",
              "      border-radius: 50%;\n",
              "      cursor: pointer;\n",
              "      display: none;\n",
              "      fill: #1967D2;\n",
              "      height: 32px;\n",
              "      padding: 0 0 0 0;\n",
              "      width: 32px;\n",
              "    }\n",
              "\n",
              "    .colab-df-convert:hover {\n",
              "      background-color: #E2EBFA;\n",
              "      box-shadow: 0px 1px 2px rgba(60, 64, 67, 0.3), 0px 1px 3px 1px rgba(60, 64, 67, 0.15);\n",
              "      fill: #174EA6;\n",
              "    }\n",
              "\n",
              "    [theme=dark] .colab-df-convert {\n",
              "      background-color: #3B4455;\n",
              "      fill: #D2E3FC;\n",
              "    }\n",
              "\n",
              "    [theme=dark] .colab-df-convert:hover {\n",
              "      background-color: #434B5C;\n",
              "      box-shadow: 0px 1px 3px 1px rgba(0, 0, 0, 0.15);\n",
              "      filter: drop-shadow(0px 1px 2px rgba(0, 0, 0, 0.3));\n",
              "      fill: #FFFFFF;\n",
              "    }\n",
              "  </style>\n",
              "\n",
              "      <script>\n",
              "        const buttonEl =\n",
              "          document.querySelector('#df-158357ed-b368-47ed-b54f-fccfa6523c25 button.colab-df-convert');\n",
              "        buttonEl.style.display =\n",
              "          google.colab.kernel.accessAllowed ? 'block' : 'none';\n",
              "\n",
              "        async function convertToInteractive(key) {\n",
              "          const element = document.querySelector('#df-158357ed-b368-47ed-b54f-fccfa6523c25');\n",
              "          const dataTable =\n",
              "            await google.colab.kernel.invokeFunction('convertToInteractive',\n",
              "                                                     [key], {});\n",
              "          if (!dataTable) return;\n",
              "\n",
              "          const docLinkHtml = 'Like what you see? Visit the ' +\n",
              "            '<a target=\"_blank\" href=https://colab.research.google.com/notebooks/data_table.ipynb>data table notebook</a>'\n",
              "            + ' to learn more about interactive tables.';\n",
              "          element.innerHTML = '';\n",
              "          dataTable['output_type'] = 'display_data';\n",
              "          await google.colab.output.renderOutput(dataTable, element);\n",
              "          const docLink = document.createElement('div');\n",
              "          docLink.innerHTML = docLinkHtml;\n",
              "          element.appendChild(docLink);\n",
              "        }\n",
              "      </script>\n",
              "    </div>\n",
              "  </div>\n",
              "  "
            ]
          },
          "metadata": {},
          "execution_count": 6
        }
      ]
    },
    {
      "cell_type": "markdown",
      "source": [
        "Although the columns have been concatenated, the data is now populated with -nan, which is not a feature in the messages that should be taken into consideration when training it. Thus, the unwanted token will be removed thorugh RegEx."
      ],
      "metadata": {
        "id": "LSPBJ_Qhve0L"
      }
    },
    {
      "cell_type": "code",
      "source": [
        "df[\"message\"] = df[\"message\"].str.replace(r'\\-nan', '', regex=True)\n",
        "\n",
        "df[:5]"
      ],
      "metadata": {
        "id": "VJUg3JSJ-MFL",
        "colab": {
          "base_uri": "https://localhost:8080/",
          "height": 206
        },
        "outputId": "1b11ecba-c277-4d02-81dd-46db50377f35"
      },
      "execution_count": null,
      "outputs": [
        {
          "output_type": "execute_result",
          "data": {
            "text/plain": [
              "  label                                            message\n",
              "0   ham  Go until jurong point, crazy.. Available only ...\n",
              "1   ham                      Ok lar... Joking wif u oni...\n",
              "2  spam  Free entry in 2 a wkly comp to win FA Cup fina...\n",
              "3   ham  U dun say so early hor... U c already then say...\n",
              "4   ham  Nah I don't think he goes to usf, he lives aro..."
            ],
            "text/html": [
              "\n",
              "  <div id=\"df-551d8e2a-9fb8-449f-94a6-049a4ec74008\">\n",
              "    <div class=\"colab-df-container\">\n",
              "      <div>\n",
              "<style scoped>\n",
              "    .dataframe tbody tr th:only-of-type {\n",
              "        vertical-align: middle;\n",
              "    }\n",
              "\n",
              "    .dataframe tbody tr th {\n",
              "        vertical-align: top;\n",
              "    }\n",
              "\n",
              "    .dataframe thead th {\n",
              "        text-align: right;\n",
              "    }\n",
              "</style>\n",
              "<table border=\"1\" class=\"dataframe\">\n",
              "  <thead>\n",
              "    <tr style=\"text-align: right;\">\n",
              "      <th></th>\n",
              "      <th>label</th>\n",
              "      <th>message</th>\n",
              "    </tr>\n",
              "  </thead>\n",
              "  <tbody>\n",
              "    <tr>\n",
              "      <th>0</th>\n",
              "      <td>ham</td>\n",
              "      <td>Go until jurong point, crazy.. Available only ...</td>\n",
              "    </tr>\n",
              "    <tr>\n",
              "      <th>1</th>\n",
              "      <td>ham</td>\n",
              "      <td>Ok lar... Joking wif u oni...</td>\n",
              "    </tr>\n",
              "    <tr>\n",
              "      <th>2</th>\n",
              "      <td>spam</td>\n",
              "      <td>Free entry in 2 a wkly comp to win FA Cup fina...</td>\n",
              "    </tr>\n",
              "    <tr>\n",
              "      <th>3</th>\n",
              "      <td>ham</td>\n",
              "      <td>U dun say so early hor... U c already then say...</td>\n",
              "    </tr>\n",
              "    <tr>\n",
              "      <th>4</th>\n",
              "      <td>ham</td>\n",
              "      <td>Nah I don't think he goes to usf, he lives aro...</td>\n",
              "    </tr>\n",
              "  </tbody>\n",
              "</table>\n",
              "</div>\n",
              "      <button class=\"colab-df-convert\" onclick=\"convertToInteractive('df-551d8e2a-9fb8-449f-94a6-049a4ec74008')\"\n",
              "              title=\"Convert this dataframe to an interactive table.\"\n",
              "              style=\"display:none;\">\n",
              "        \n",
              "  <svg xmlns=\"http://www.w3.org/2000/svg\" height=\"24px\"viewBox=\"0 0 24 24\"\n",
              "       width=\"24px\">\n",
              "    <path d=\"M0 0h24v24H0V0z\" fill=\"none\"/>\n",
              "    <path d=\"M18.56 5.44l.94 2.06.94-2.06 2.06-.94-2.06-.94-.94-2.06-.94 2.06-2.06.94zm-11 1L8.5 8.5l.94-2.06 2.06-.94-2.06-.94L8.5 2.5l-.94 2.06-2.06.94zm10 10l.94 2.06.94-2.06 2.06-.94-2.06-.94-.94-2.06-.94 2.06-2.06.94z\"/><path d=\"M17.41 7.96l-1.37-1.37c-.4-.4-.92-.59-1.43-.59-.52 0-1.04.2-1.43.59L10.3 9.45l-7.72 7.72c-.78.78-.78 2.05 0 2.83L4 21.41c.39.39.9.59 1.41.59.51 0 1.02-.2 1.41-.59l7.78-7.78 2.81-2.81c.8-.78.8-2.07 0-2.86zM5.41 20L4 18.59l7.72-7.72 1.47 1.35L5.41 20z\"/>\n",
              "  </svg>\n",
              "      </button>\n",
              "      \n",
              "  <style>\n",
              "    .colab-df-container {\n",
              "      display:flex;\n",
              "      flex-wrap:wrap;\n",
              "      gap: 12px;\n",
              "    }\n",
              "\n",
              "    .colab-df-convert {\n",
              "      background-color: #E8F0FE;\n",
              "      border: none;\n",
              "      border-radius: 50%;\n",
              "      cursor: pointer;\n",
              "      display: none;\n",
              "      fill: #1967D2;\n",
              "      height: 32px;\n",
              "      padding: 0 0 0 0;\n",
              "      width: 32px;\n",
              "    }\n",
              "\n",
              "    .colab-df-convert:hover {\n",
              "      background-color: #E2EBFA;\n",
              "      box-shadow: 0px 1px 2px rgba(60, 64, 67, 0.3), 0px 1px 3px 1px rgba(60, 64, 67, 0.15);\n",
              "      fill: #174EA6;\n",
              "    }\n",
              "\n",
              "    [theme=dark] .colab-df-convert {\n",
              "      background-color: #3B4455;\n",
              "      fill: #D2E3FC;\n",
              "    }\n",
              "\n",
              "    [theme=dark] .colab-df-convert:hover {\n",
              "      background-color: #434B5C;\n",
              "      box-shadow: 0px 1px 3px 1px rgba(0, 0, 0, 0.15);\n",
              "      filter: drop-shadow(0px 1px 2px rgba(0, 0, 0, 0.3));\n",
              "      fill: #FFFFFF;\n",
              "    }\n",
              "  </style>\n",
              "\n",
              "      <script>\n",
              "        const buttonEl =\n",
              "          document.querySelector('#df-551d8e2a-9fb8-449f-94a6-049a4ec74008 button.colab-df-convert');\n",
              "        buttonEl.style.display =\n",
              "          google.colab.kernel.accessAllowed ? 'block' : 'none';\n",
              "\n",
              "        async function convertToInteractive(key) {\n",
              "          const element = document.querySelector('#df-551d8e2a-9fb8-449f-94a6-049a4ec74008');\n",
              "          const dataTable =\n",
              "            await google.colab.kernel.invokeFunction('convertToInteractive',\n",
              "                                                     [key], {});\n",
              "          if (!dataTable) return;\n",
              "\n",
              "          const docLinkHtml = 'Like what you see? Visit the ' +\n",
              "            '<a target=\"_blank\" href=https://colab.research.google.com/notebooks/data_table.ipynb>data table notebook</a>'\n",
              "            + ' to learn more about interactive tables.';\n",
              "          element.innerHTML = '';\n",
              "          dataTable['output_type'] = 'display_data';\n",
              "          await google.colab.output.renderOutput(dataTable, element);\n",
              "          const docLink = document.createElement('div');\n",
              "          docLink.innerHTML = docLinkHtml;\n",
              "          element.appendChild(docLink);\n",
              "        }\n",
              "      </script>\n",
              "    </div>\n",
              "  </div>\n",
              "  "
            ]
          },
          "metadata": {},
          "execution_count": 9
        }
      ]
    },
    {
      "cell_type": "markdown",
      "source": [
        "The last step prior to splitting the data for training and testing is to assign all the labels and messages into two separate arrays to be able to use it in the machine learning models."
      ],
      "metadata": {
        "id": "LC1xWWEHwFp0"
      }
    },
    {
      "cell_type": "code",
      "source": [
        "# Define feature columns\n",
        "x = df[\"message\"].values\n",
        "# Define label columns\n",
        "y = df[\"label\"].values"
      ],
      "metadata": {
        "id": "-NEQJIenwGGo"
      },
      "execution_count": null,
      "outputs": []
    },
    {
      "cell_type": "markdown",
      "source": [
        "# Splitting the Data\n",
        "\n",
        "30% of the data is assigned to be test data, and the other 70% will be the training data. The distribution of the labels in each dataset is also displayed below. Both sets have significantly more ham messages, which follows the distribution of the original dataset.\n",
        "\n",
        "Stratify is used so the data proportions are similar to that of the original dataset. Moreover, the model is trained and tested on different variations of data by altering the random_state value in order to better assess the performance of the model and ensure it is not biased towards one variation."
      ],
      "metadata": {
        "id": "MxOnjEHaKCED"
      }
    },
    {
      "cell_type": "code",
      "source": [
        "from sklearn.model_selection import train_test_split\n",
        "\n",
        "x_train, x_test, y_train, y_test = train_test_split(x, y, test_size = 0.3, random_state = 20, stratify=y)\n",
        "\n",
        "print(\"Training Data\")\n",
        "print(f\"Total number of documents: {len(y_train)}\")\n",
        "print(f\"Documents for ham messages: {(y_train == 'ham').sum()}\")\n",
        "print(f\"Documents for spam messages: {(y_train == 'spam').sum()}\")\n",
        "\n",
        "print(\"\\nTesting Data\")\n",
        "print(f\"Total number of documents: {len(y_test)}\")\n",
        "print(f\"Documents for ham messages: {(y_test == 'ham').sum()}\")\n",
        "print(f\"Documents for spam messages: {(y_test == 'spam').sum()}\")"
      ],
      "metadata": {
        "id": "13LzlTY9LBeh",
        "colab": {
          "base_uri": "https://localhost:8080/"
        },
        "outputId": "55720e5c-fba7-4f36-b149-abb3e326f682"
      },
      "execution_count": null,
      "outputs": [
        {
          "output_type": "stream",
          "name": "stdout",
          "text": [
            "Training Data\n",
            "Total number of documents: 3900\n",
            "Documents for ham messages: 3377\n",
            "Documents for spam messages: 523\n",
            "\n",
            "Testing Data\n",
            "Total number of documents: 1672\n",
            "Documents for ham messages: 1448\n",
            "Documents for spam messages: 224\n"
          ]
        }
      ]
    },
    {
      "cell_type": "markdown",
      "source": [
        "# Text Vectorization: Bag of Words Model\n",
        "\n"
      ],
      "metadata": {
        "id": "2kogvq7SQYZq"
      }
    },
    {
      "cell_type": "markdown",
      "source": [
        "The features are extracted first using the Bag of Words (BoW) model and then trained using two machine learning models: Naïve Bayes and Logistic Regression. For further comparison and experimentation of machine learning pre-processing for natural language processing, TF-IDF is also used for feature extraction in the next section."
      ],
      "metadata": {
        "id": "N_iDfUol3Y7j"
      }
    },
    {
      "cell_type": "code",
      "source": [
        "from sklearn.feature_extraction.text import CountVectorizer\n",
        "# lowercasing of words is done by default\n",
        "count_vec = CountVectorizer(ngram_range = (1,1))\n",
        "\n",
        "x_train = count_vec.fit_transform(x_train)\n",
        "x_test = count_vec.transform(x_test)"
      ],
      "metadata": {
        "id": "IqKB1TDjQtEb"
      },
      "execution_count": null,
      "outputs": []
    },
    {
      "cell_type": "markdown",
      "source": [
        "### Training: Naïve Bayes"
      ],
      "metadata": {
        "id": "lMNBc4itH1EU"
      }
    },
    {
      "cell_type": "code",
      "source": [
        "from sklearn.naive_bayes import MultinomialNB\n",
        "\n",
        "nb = MultinomialNB()\n",
        "nb.fit(x_train, y_train)\n",
        "\n",
        "prediction_nb = nb.predict(x_test)"
      ],
      "metadata": {
        "id": "kWOTzz9OTC02"
      },
      "execution_count": null,
      "outputs": []
    },
    {
      "cell_type": "markdown",
      "source": [
        "### Training: Logistic Regression"
      ],
      "metadata": {
        "id": "uKwl57XeICn-"
      }
    },
    {
      "cell_type": "code",
      "source": [
        "from sklearn.linear_model import LogisticRegression\n",
        "\n",
        "logreg = LogisticRegression()\n",
        "logreg.fit(x_train, y_train)\n",
        "\n",
        "prediction_logreg = logreg.predict(x_test)"
      ],
      "metadata": {
        "id": "QgxXsiHxTWA-"
      },
      "execution_count": null,
      "outputs": []
    },
    {
      "cell_type": "markdown",
      "source": [
        "### Testing\n",
        "\n",
        "The model is tested using four different evaluation metrics, but ultimately the F1 Score is the basis for the evaluation. The reasons for this are further justified and assessed in the paper submitted alongside this notebook.\n"
      ],
      "metadata": {
        "id": "wyzQh2IcQIjX"
      }
    },
    {
      "cell_type": "code",
      "source": [
        "from sklearn.metrics import f1_score, accuracy_score, precision_score, recall_score\n",
        "\n",
        "print(\"Naïve Bayes: %f\" % f1_score(y_test, prediction_nb, average='macro'))\n",
        "print(\"Logistic Regression: %f\" % f1_score(y_test, prediction_logreg, average='macro'))\n",
        "print(\"--------------------------------\")\n",
        "\n",
        "print(\"Naive Bayes (accuracy): %f\" % accuracy_score(y_test, prediction_nb))\n",
        "print(\"Logistic Regression (accuracy): %f\" % accuracy_score(y_test, prediction_logreg))\n",
        "print(\"--------------------------------\")\n",
        "\n",
        "print(\"Naive Bayes (precision): %f\" % precision_score(y_test, prediction_nb, average = 'macro'))\n",
        "print(\"Logistic Regression (precision): %f\" % precision_score(y_test, prediction_logreg, average = 'macro'))\n",
        "print(\"--------------------------------\")\n",
        "\n",
        "print(\"Naive Bayes (recall): %f\" % recall_score(y_test, prediction_nb, average = 'macro'))\n",
        "print(\"Logistic Regression (recall): %f\" % recall_score(y_test, prediction_logreg, average = 'macro'))\n",
        "\n"
      ],
      "metadata": {
        "colab": {
          "base_uri": "https://localhost:8080/"
        },
        "id": "XMq2CGvCXOaU",
        "outputId": "1bacd3da-da76-4787-a2ee-0f2cc7a6cb56"
      },
      "execution_count": null,
      "outputs": [
        {
          "output_type": "stream",
          "name": "stdout",
          "text": [
            "Naïve Bayes: 0.960127\n",
            "Logistic Regression: 0.947838\n",
            "--------------------------------\n",
            "Naive Bayes (accuracy): 0.982057\n",
            "Logistic Regression (accuracy): 0.977273\n",
            "--------------------------------\n",
            "Naive Bayes (precision): 0.975318\n",
            "Logistic Regression (precision): 0.980363\n",
            "--------------------------------\n",
            "Naive Bayes (recall): 0.946244\n",
            "Logistic Regression (recall): 0.920839\n"
          ]
        }
      ]
    },
    {
      "cell_type": "markdown",
      "source": [
        "# Text Vectorization: TF-IDF"
      ],
      "metadata": {
        "id": "Z3O-wbT8IYLe"
      }
    },
    {
      "cell_type": "markdown",
      "source": [
        "To explore a different pipeline, the dataset features were also extracted using the TF-IDF , which is used to downweight frequently occurring words in a dataset. The entire code from splitting to testing was replicated to avoid having to re-run each step in the notebook."
      ],
      "metadata": {
        "id": "ixOd0sadzGlZ"
      }
    },
    {
      "cell_type": "code",
      "source": [
        "from sklearn.model_selection import train_test_split\n",
        "from sklearn.feature_extraction.text import TfidfVectorizer\n",
        "from sklearn.naive_bayes import MultinomialNB\n",
        "from sklearn.linear_model import LogisticRegression\n",
        "from sklearn.metrics import f1_score, accuracy_score, precision_score, recall_score\n",
        "\n",
        "# Splitting data\n",
        "x_train, x_test, y_train, y_test = train_test_split(x, y, test_size = 0.3, random_state = 16, stratify=y)\n",
        "\n",
        "# Vectorization\n",
        "tfidf_vec = TfidfVectorizer(ngram_range = (1,1))\n",
        "\n",
        "x_train = tfidf_vec.fit_transform(x_train)\n",
        "x_test = tfidf_vec.transform(x_test)\n",
        "\n",
        "# Training\n",
        "nb = MultinomialNB()\n",
        "nb.fit(x_train, y_train)\n",
        "\n",
        "prediction_nb = nb.predict(x_test)\n",
        "\n",
        "logreg = LogisticRegression()\n",
        "logreg.fit(x_train, y_train)\n",
        "\n",
        "# Testing\n",
        "\n",
        "prediction_logreg = logreg.predict(x_test)\n",
        "\n",
        "print(\"Naïve Bayes: %f\" % f1_score(y_test, prediction_nb, average='macro'))\n",
        "print(\"Logistic Regression: %f\" % f1_score(y_test, prediction_logreg, average='macro'))\n",
        "print(\"--------------------------------\")\n",
        "\n",
        "print(\"Naive Bayes (accuracy): %f\" % accuracy_score(y_test, prediction_nb))\n",
        "print(\"Logistic Regression (accuracy): %f\" % accuracy_score(y_test, prediction_logreg))\n",
        "print(\"--------------------------------\")\n",
        "\n",
        "print(\"Naive Bayes (precision): %f\" % precision_score(y_test, prediction_nb, average = 'macro'))\n",
        "print(\"Logistic Regression (precision): %f\" % precision_score(y_test, prediction_logreg, average = 'macro'))\n",
        "print(\"--------------------------------\")\n",
        "\n",
        "print(\"Naive Bayes (recall): %f\" % recall_score(y_test, prediction_nb, average = 'macro'))\n",
        "print(\"Logistic Regression (recall): %f\" % recall_score(y_test, prediction_logreg, average = 'macro'))\n",
        "\n"
      ],
      "metadata": {
        "id": "yjbyyDxhSmWx",
        "colab": {
          "base_uri": "https://localhost:8080/"
        },
        "outputId": "88f44a95-64b3-45dc-aa18-1bf3ae465d2b"
      },
      "execution_count": null,
      "outputs": [
        {
          "output_type": "stream",
          "name": "stdout",
          "text": [
            "Naïve Bayes: 0.886842\n",
            "Logistic Regression: 0.907536\n",
            "--------------------------------\n",
            "Naive Bayes (accuracy): 0.955144\n",
            "Logistic Regression (accuracy): 0.962321\n",
            "--------------------------------\n",
            "Naive Bayes (precision): 0.975378\n",
            "Logistic Regression (precision): 0.979153\n",
            "--------------------------------\n",
            "Naive Bayes (recall): 0.832589\n",
            "Logistic Regression (recall): 0.859375\n"
          ]
        }
      ]
    },
    {
      "cell_type": "markdown",
      "source": [
        "Based on all the evaluation metrics, TF-IDF performs much worse for both models. The reason for why TF-IDF has worse results than BoW is expounded more in the paper."
      ],
      "metadata": {
        "id": "-2XppVKUz-I7"
      }
    }
  ]
}